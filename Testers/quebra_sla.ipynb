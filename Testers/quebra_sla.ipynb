{
 "cells": [
  {
   "cell_type": "code",
   "execution_count": 1,
   "id": "93b89daf",
   "metadata": {},
   "outputs": [],
   "source": [
    "import pandas as pd\n",
    "from math import floor\n",
    "from datetime import datetime\n",
    "from datetime import timedelta"
   ]
  },
  {
   "cell_type": "code",
   "execution_count": 2,
   "id": "13bf90e3",
   "metadata": {},
   "outputs": [],
   "source": [
    "df =  pd.read_csv(r'../Data/dericavao_24h.csv')\n",
    "intervalo = 10\n",
    "tma = 156"
   ]
  },
  {
   "cell_type": "code",
   "execution_count": 3,
   "id": "f2323d09",
   "metadata": {},
   "outputs": [],
   "source": [
    "def get_dataframe_sla():\n",
    "    # Criar lista de horários com intervalo especificado\n",
    "    horarios = []\n",
    "    for hora in range(24):\n",
    "        for minuto in range(0, 60, intervalo):\n",
    "            horarios.append(f\"{hora:02d}:{minuto:02d}\")\n",
    "        \n",
    "        # Adicionar último horário se não completar 60 minutos\n",
    "        if 60 % intervalo != 0 and (60 // intervalo) * intervalo != 60:\n",
    "            horarios.append(f\"{hora:02d}:59\")\n",
    "\n",
    "    # Criar DataFrame base\n",
    "    df_intervalo = pd.DataFrame({'horario': horarios})\n",
    "\n",
    "    # Extrair hora base (formato HH:00)\n",
    "    df_intervalo['hora_base'] = df_intervalo['horario'].str[:2] + ':00'\n",
    "\n",
    "    # Mesclar com dados originais\n",
    "    df_merged = pd.merge(df_intervalo, df, left_on='hora_base', right_on='horario', suffixes=('', '_hora'))\n",
    "\n",
    "    # Calcular proporção\n",
    "    if 60 % intervalo == 0:\n",
    "        # Divisão uniforme\n",
    "        proporcao = intervalo / 60\n",
    "        df_merged['quantidade'] = df_merged['quantidade'] * proporcao\n",
    "    else:\n",
    "        # Divisão não uniforme - distribuição igualitária\n",
    "        intervalos_por_hora = df_merged.groupby('hora_base')['horario'].transform('count')\n",
    "        df_merged['quantidade'] = df_merged['quantidade'] / intervalos_por_hora\n",
    "\n",
    "    # Selecionar colunas finais\n",
    "    df_final = df_merged[['horario', 'quantidade']]\n",
    "    return df_final"
   ]
  },
  {
   "cell_type": "code",
   "execution_count": 4,
   "id": "50dc8154",
   "metadata": {},
   "outputs": [],
   "source": [
    "df_final = get_dataframe_sla()"
   ]
  },
  {
   "cell_type": "code",
   "execution_count": 5,
   "id": "5bcbfac8",
   "metadata": {},
   "outputs": [],
   "source": [
    "def encontrar_indice_por_hora_aproximada(df, horario_alvo: str):\n",
    "    \"\"\"\n",
    "    Encontra o índice do horário mais próximo dentro da mesma hora.\n",
    "    \"\"\"\n",
    "\n",
    "    alvo = datetime.strptime(horario_alvo, \"%H:%M\")\n",
    "    alvo_hora = alvo.hour\n",
    "\n",
    "    df = df.copy()  # Evita modificar o DataFrame original\n",
    "    df['__hora'] = df['horario'].apply(lambda x: int(x.split(\":\")[0]))\n",
    "    df['__minuto'] = df['horario'].apply(lambda x: int(x.split(\":\")[1]))\n",
    "\n",
    "    candidatos = df[df['__hora'] == alvo_hora].copy()\n",
    "\n",
    "    if candidatos.empty:\n",
    "        raise ValueError(f\"Nenhum horário encontrado para a hora {alvo_hora:02d}\")\n",
    "\n",
    "    candidatos['diff'] = candidatos['__minuto'].apply(lambda m: abs(m - alvo.minute))\n",
    "    resultado = candidatos.sort_values(by='diff').iloc[0]\n",
    "\n",
    "    return resultado.name"
   ]
  },
  {
   "cell_type": "code",
   "execution_count": 6,
   "id": "e3db5db5",
   "metadata": {},
   "outputs": [],
   "source": [
    "def str_to_time(hora_str):\n",
    "    return datetime.strptime(hora_str, \"%H:%M\")\n",
    "\n",
    "def set_capacidade_producao():\n",
    "    df_sla = df_final.reset_index(drop=True)\n",
    "   \n",
    "    entrada = \"07:30\"\n",
    "    almoco_inicio = \"12:40\"\n",
    "    almoco_duracao = 60  # minutos\n",
    "    saida = \"15:20\"\n",
    "\n",
    "    entrada_dt = str_to_time(entrada)\n",
    "    almoco_inicio_dt = str_to_time(almoco_inicio)\n",
    "    almoco_fim_dt = almoco_inicio_dt + timedelta(minutes=almoco_duracao)\n",
    "    saida_dt = str_to_time(saida)\n",
    "\n",
    "    tempo_trabalhado = []\n",
    "    \n",
    "    for i in range(len(df_sla)):\n",
    "        hora_inicio = str_to_time(df_sla.loc[i, 'horario'])\n",
    "        if i < len(df_sla) - 1:\n",
    "            hora_fim = str_to_time(df_sla.loc[i + 1, 'horario'])\n",
    "        else:\n",
    "            hora_fim = hora_inicio + timedelta(minutes=intervalo)  # fallback\n",
    "\n",
    "        minutos_trabalhados = 0\n",
    "\n",
    "        # Interseção com jornada total\n",
    "        trabalho_inicio = max(hora_inicio, entrada_dt)\n",
    "        trabalho_fim = min(hora_fim, saida_dt)\n",
    "\n",
    "        if trabalho_fim > trabalho_inicio:\n",
    "            trabalho_total = trabalho_fim - trabalho_inicio\n",
    "\n",
    "            # Subtrai interseção com o almoço\n",
    "            pausa_inicio = max(trabalho_inicio, almoco_inicio_dt)\n",
    "            pausa_fim = min(trabalho_fim, almoco_fim_dt)\n",
    "\n",
    "            if pausa_fim > pausa_inicio:\n",
    "                pausa = pausa_fim - pausa_inicio\n",
    "            else:\n",
    "                pausa = timedelta(minutes=0)\n",
    "\n",
    "            minutos_validos = int((trabalho_total - pausa).seconds / 60)\n",
    "            minutos_trabalhados = min(minutos_validos, int((hora_fim - hora_inicio).seconds / 60))  # ⚠️ limita\n",
    "\n",
    "        # print(f\"H:{df_sla.loc[i, 'horario']} MT:{minutos_trabalhados}\")\n",
    "        tempo_trabalhado.append(minutos_trabalhados)\n",
    "                \n",
    "    # Agora calcula capacidade\n",
    "    capacidade = [floor(mins * 60 / tma) for mins in tempo_trabalhado]\n",
    "\n",
    "    print(f\"Tempo Trabalhado        {tempo_trabalhado}\")\n",
    "    print(f\"Len                     {len(tempo_trabalhado)}\")\n",
    "    print(f\"Capacidade              {capacidade}\")\n",
    "    print(f\"Len                     {len(capacidade)}\")"
   ]
  },
  {
   "cell_type": "code",
   "execution_count": 7,
   "id": "3b8beb38",
   "metadata": {},
   "outputs": [
    {
     "name": "stdout",
     "output_type": "stream",
     "text": [
      "Tempo Trabalhado        [0, 0, 0, 0, 0, 0, 0, 0, 0, 0, 0, 0, 0, 0, 0, 0, 0, 0, 0, 0, 0, 0, 0, 0, 0, 0, 0, 0, 0, 0, 0, 0, 0, 0, 0, 0, 0, 0, 0, 0, 0, 0, 0, 0, 0, 10, 10, 10, 10, 10, 10, 10, 10, 10, 10, 10, 10, 10, 10, 10, 10, 10, 10, 10, 10, 10, 10, 10, 10, 10, 10, 10, 10, 10, 10, 10, 0, 0, 0, 0, 0, 0, 10, 10, 10, 10, 10, 10, 10, 10, 10, 10, 0, 0, 0, 0, 0, 0, 0, 0, 0, 0, 0, 0, 0, 0, 0, 0, 0, 0, 0, 0, 0, 0, 0, 0, 0, 0, 0, 0, 0, 0, 0, 0, 0, 0, 0, 0, 0, 0, 0, 0, 0, 0, 0, 0, 0, 0, 0, 0, 0, 0, 0, 0]\n",
      "Len                     144\n",
      "Capacidade              [0, 0, 0, 0, 0, 0, 0, 0, 0, 0, 0, 0, 0, 0, 0, 0, 0, 0, 0, 0, 0, 0, 0, 0, 0, 0, 0, 0, 0, 0, 0, 0, 0, 0, 0, 0, 0, 0, 0, 0, 0, 0, 0, 0, 0, 3, 3, 3, 3, 3, 3, 3, 3, 3, 3, 3, 3, 3, 3, 3, 3, 3, 3, 3, 3, 3, 3, 3, 3, 3, 3, 3, 3, 3, 3, 3, 0, 0, 0, 0, 0, 0, 3, 3, 3, 3, 3, 3, 3, 3, 3, 3, 0, 0, 0, 0, 0, 0, 0, 0, 0, 0, 0, 0, 0, 0, 0, 0, 0, 0, 0, 0, 0, 0, 0, 0, 0, 0, 0, 0, 0, 0, 0, 0, 0, 0, 0, 0, 0, 0, 0, 0, 0, 0, 0, 0, 0, 0, 0, 0, 0, 0, 0, 0]\n",
      "Len                     144\n"
     ]
    }
   ],
   "source": [
    "set_capacidade_producao()"
   ]
  }
 ],
 "metadata": {
  "kernelspec": {
   "display_name": "Python 3",
   "language": "python",
   "name": "python3"
  },
  "language_info": {
   "codemirror_mode": {
    "name": "ipython",
    "version": 3
   },
   "file_extension": ".py",
   "mimetype": "text/x-python",
   "name": "python",
   "nbconvert_exporter": "python",
   "pygments_lexer": "ipython3",
   "version": "3.13.3"
  }
 },
 "nbformat": 4,
 "nbformat_minor": 5
}

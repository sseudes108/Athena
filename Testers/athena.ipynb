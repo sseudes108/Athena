{
 "cells": [
  {
   "cell_type": "code",
   "execution_count": null,
   "id": "a5ccb8e9",
   "metadata": {},
   "outputs": [],
   "source": [
    "import sys\n",
    "import os\n",
    "\n",
    "sys.path.append(os.path.abspath(os.path.join(os.getcwd(), '..')))\n",
    "\n",
    "from Model.demanda import DemandaAtual, DemandaAcumulada, CapacidadeOperacional\n",
    "from Model.analista import Analista\n",
    "import Control.manager_data as Data_Man\n",
    "from Control.calculadora import Calculadora"
   ]
  },
  {
   "cell_type": "code",
   "execution_count": null,
   "id": "99899592",
   "metadata": {},
   "outputs": [],
   "source": [
    "def modelo_01(tma, demanda_atual:DemandaAtual, demanda_acumulada:DemandaAcumulada, capacidade_operacional:CapacidadeOperacional):\n",
    "    PICO_MANHA = 10\n",
    "    PICO_NOITE = 21\n",
    "    \n",
    "    analistas = []\n",
    "\n",
    "    while demanda_acumulada.get_demanda()[PICO_MANHA] > 0:\n",
    "        novo_analista = Analista(tma, \"07:00\", \"12:00\", \"15:20\")\n",
    "        analistas.append(novo_analista)\n",
    "        \n",
    "        demanda_atualizada = [a - b for a, b in zip(demanda_atual.get_demanda(), novo_analista.get_capacidade_producao())]\n",
    "        \n",
    "        demanda_atual.set_demanda(demanda_atualizada)\n",
    "        demanda_acumulada.recalcular_acumulo(demanda_atualizada)\n",
    "        \n",
    "    while demanda_acumulada.get_demanda()[PICO_NOITE] > 0:\n",
    "        novo_analista = Analista(tma, \"13:40\", \"17:25\", \"22:00\")\n",
    "        analistas.append(novo_analista)\n",
    "        \n",
    "        demanda_atualizada = [a - b for a, b in zip(demanda_atual.get_demanda(), novo_analista.get_capacidade_producao())]\n",
    "        \n",
    "        demanda_atual.set_demanda(demanda_atualizada)\n",
    "        demanda_acumulada.recalcular_acumulo(demanda_atualizada)\n",
    "    \n",
    "    capacidade_producao_atualizada = [0] * 24\n",
    "    for analista in analistas:\n",
    "        capacidade = analista.get_capacidade_producao()\n",
    "        capacidade_producao_atualizada = [a + b for a, b in zip(capacidade_producao_atualizada, capacidade)]\n",
    "        \n",
    "    capacidade_operacional.set_capacidade_producao(capacidade_producao_atualizada)\n",
    "\n",
    "    return analistas"
   ]
  },
  {
   "cell_type": "code",
   "execution_count": null,
   "id": "6c97239b",
   "metadata": {},
   "outputs": [],
   "source": [
    "df_csv_der = Data_Man.get_dataframe(r'../Data/dericavao_24h.csv')                \n",
    "calculadora = Calculadora()\n",
    "                \n",
    "(demanda_atual, \n",
    "    demanda_acumulada, \n",
    "    capacidade_operacional) = calculadora.create_instancias()\n",
    "\n",
    "demanda_inicial = df_csv_der['quantidade'].tolist()\n",
    "\n",
    "demanda_atual.set_demanda(demanda_inicial)\n",
    "\n",
    "acumulo = calculadora.calcular_acumulo(demanda_inicial)\n",
    "acumulo[22] = 0\n",
    "acumulo[23] = 0\n",
    "\n",
    "demanda_acumulada.set_demanda(acumulo)\n",
    "\n",
    "analistas = modelo_01(156, demanda_atual, demanda_acumulada, capacidade_operacional)"
   ]
  }
 ],
 "metadata": {
  "kernelspec": {
   "display_name": "Python 3",
   "language": "python",
   "name": "python3"
  },
  "language_info": {
   "codemirror_mode": {
    "name": "ipython",
    "version": 3
   },
   "file_extension": ".py",
   "mimetype": "text/x-python",
   "name": "python",
   "nbconvert_exporter": "python",
   "pygments_lexer": "ipython3",
   "version": "3.13.3"
  }
 },
 "nbformat": 4,
 "nbformat_minor": 5
}

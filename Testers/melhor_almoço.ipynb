{
 "cells": [
  {
   "cell_type": "code",
   "execution_count": 82,
   "id": "5271d1a7",
   "metadata": {},
   "outputs": [],
   "source": [
    "import pandas as pd"
   ]
  },
  {
   "cell_type": "code",
   "execution_count": 83,
   "id": "0803159b",
   "metadata": {},
   "outputs": [],
   "source": [
    "df = pd.read_csv(r'../Data/Itau.csv')"
   ]
  },
  {
   "cell_type": "code",
   "execution_count": 84,
   "id": "febd59f7",
   "metadata": {},
   "outputs": [],
   "source": [
    "df = df.iloc[7:22]"
   ]
  },
  {
   "cell_type": "code",
   "execution_count": 85,
   "id": "5008b50c",
   "metadata": {},
   "outputs": [],
   "source": [
    "q1 = df['quantidade'].quantile(0.50)\n",
    "q3 = df['quantidade'].quantile(0.75)"
   ]
  },
  {
   "cell_type": "code",
   "execution_count": 86,
   "id": "bdd48fd2",
   "metadata": {},
   "outputs": [],
   "source": [
    "df_horas_menor = df[df['quantidade'] <= q1]\n",
    "lista_horas_menor = df_horas_menor['horario'].tolist()\n",
    "\n",
    "df_horas_maior = df[df['quantidade'] >= q3]\n",
    "lista_horas_maior = df_horas_maior['horario'].tolist()\n"
   ]
  },
  {
   "cell_type": "code",
   "execution_count": 87,
   "id": "86195603",
   "metadata": {},
   "outputs": [
    {
     "name": "stdout",
     "output_type": "stream",
     "text": [
      "Horas com menor derivação: ['07:00', '08:00', '12:00', '15:00', '16:00', '19:00', '20:00', '21:00']\n",
      "Horas com maior derivação: ['09:00', '11:00', '17:00', '18:00']\n"
     ]
    }
   ],
   "source": [
    "print(f\"Horas com menor derivação: {lista_horas_menor}\")\n",
    "print(f\"Horas com maior derivação: {lista_horas_maior}\")"
   ]
  },
  {
   "cell_type": "code",
   "execution_count": 88,
   "id": "6731ccff",
   "metadata": {},
   "outputs": [],
   "source": [
    "from datetime import datetime, timedelta\n",
    "\n",
    "entrada = \"8:00\"\n",
    "almoço = ''\n",
    "saida = \"17:48\"\n",
    "\n",
    "entrada = datetime.strptime(entrada, '%H:%M')\n",
    "\n",
    "saida = datetime.strptime(saida, '%H:%M')"
   ]
  },
  {
   "cell_type": "code",
   "execution_count": 90,
   "id": "87fdef27",
   "metadata": {},
   "outputs": [
    {
     "name": "stdout",
     "output_type": "stream",
     "text": [
      "1900-01-01 12:00:00\n",
      "1900-01-01 14:48:00\n",
      "Horas com menor derivação: ['07:00', '08:00', '12:00', '15:00', '16:00', '19:00', '20:00', '21:00']\n"
     ]
    }
   ],
   "source": [
    "max_almoco = saida - timedelta(hours=3)\n",
    "min_almoco = entrada + timedelta(hours=4)\n",
    "print(min_almoco)\n",
    "print(max_almoco)\n",
    "print(f\"Horas com menor derivação: {lista_horas_menor}\")"
   ]
  }
 ],
 "metadata": {
  "kernelspec": {
   "display_name": "Python 3",
   "language": "python",
   "name": "python3"
  },
  "language_info": {
   "codemirror_mode": {
    "name": "ipython",
    "version": 3
   },
   "file_extension": ".py",
   "mimetype": "text/x-python",
   "name": "python",
   "nbconvert_exporter": "python",
   "pygments_lexer": "ipython3",
   "version": "3.13.3"
  }
 },
 "nbformat": 4,
 "nbformat_minor": 5
}

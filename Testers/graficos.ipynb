{
 "cells": [
  {
   "cell_type": "code",
   "execution_count": null,
   "id": "60513820",
   "metadata": {},
   "outputs": [],
   "source": [
    "import plotly.graph_objects as go\n",
    "import pandas as pd"
   ]
  },
  {
   "cell_type": "code",
   "execution_count": null,
   "id": "a77715cf",
   "metadata": {},
   "outputs": [],
   "source": [
    "horarios = [f\"{h:02d}:00\" for h in range(0, 24)]\n",
    "quantidades = [0] * 24\n",
    "\n",
    "df = pd.DataFrame({\n",
    "    'horario': horarios,\n",
    "    'quantidade': quantidades\n",
    "})"
   ]
  },
  {
   "cell_type": "code",
   "execution_count": null,
   "id": "b1da482d",
   "metadata": {},
   "outputs": [],
   "source": [
    "df = pd.read_csv(r'Data/dericavao_24h.csv')\n",
    "\n",
    "print(df.head())"
   ]
  },
  {
   "cell_type": "code",
   "execution_count": null,
   "id": "1a672d46",
   "metadata": {},
   "outputs": [],
   "source": [
    "fig = go.Figure()\n",
    "\n",
    "# Adicionar a linha usando add_scatter\n",
    "fig.add_scatter(\n",
    "    x=df['horario'], \n",
    "    y=df['quantidade'], \n",
    "    mode='lines+markers', \n",
    "    line=dict(\n",
    "        color='salmon',\n",
    "        width=2,\n",
    "    ),\n",
    "\n",
    ")\n",
    "\n",
    "#Adicionar título e eixos\n",
    "fig.update_layout(\n",
    "    title='Quantidade por Horário',\n",
    "    \n",
    "    yaxis_title='Quantidade',\n",
    "    \n",
    "    xaxis_title='Horário',\n",
    "    xaxis=dict(\n",
    "        range=[7,21]\n",
    "        tickmode='linear',\n",
    "        tickangle=-45\n",
    "    )\n",
    ")\n",
    "\n",
    "# Exibir o gráfico\n",
    "fig.show()"
   ]
  }
 ],
 "metadata": {
  "kernelspec": {
   "display_name": "Python 3",
   "language": "python",
   "name": "python3"
  },
  "language_info": {
   "codemirror_mode": {
    "name": "ipython",
    "version": 3
   },
   "file_extension": ".py",
   "mimetype": "text/x-python",
   "name": "python",
   "nbconvert_exporter": "python",
   "pygments_lexer": "ipython3",
   "version": "3.13.3"
  }
 },
 "nbformat": 4,
 "nbformat_minor": 5
}

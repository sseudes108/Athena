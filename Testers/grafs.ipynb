{
 "cells": [
  {
   "cell_type": "code",
   "execution_count": null,
   "id": "dfeba828",
   "metadata": {},
   "outputs": [],
   "source": [
    "\n",
    "import matplotlib.pyplot as plt\n",
    "import seaborn as sns\n",
    "import numpy as np\n",
    "import pandas as pd\n",
    "import plotly.graph_objects as go\n",
    "from scipy.stats import gaussian_kde\n",
    "import streamlit as st \n",
    "import plotly.figure_factory as ff\n",
    "from datetime import datetime\n",
    "import plotly.express as px\n"
   ]
  },
  {
   "cell_type": "code",
   "execution_count": null,
   "id": "8c2c7dbe",
   "metadata": {},
   "outputs": [],
   "source": [
    "dataframe_acumulo = pd.read_csv(r'../df_acumulo.csv')\n",
    "dataframe_derivacao = pd.read_csv(r'../df_derivacao.csv')"
   ]
  },
  {
   "cell_type": "code",
   "execution_count": null,
   "id": "8d45e702",
   "metadata": {},
   "outputs": [
    {
     "data": {
      "application/vnd.plotly.v1+json": {
       "config": {
        "plotlyServerURL": "https://plot.ly"
       },
       "data": [
        {
         "marker": {
          "color": {
           "bdata": "AAAAAAAAAAAAAAAAAAAAAAAAAAAAAAAAAAAAAAAAAAAAAAAAAAAAAAAAAAAAAAAAAAAAAAAAAAAAAAAAAAAAAAAAAAAAAAAAAAAAAAAAAAAAAAAAAAAAAAAAAAAAAAAAAAAAAAAAAAAAAAAAAAAAAAAAAAAAAAAAAAAAAAAAAAAAAAAAAAAAAAAAAAAAAAAAAAAAAAAAAAAAAAAAAAAAAAAAAAAAAAAAAAAAAAAAAAAAAAAAAAAAAAAAAAAAAAAAAAAAAAAAAAAAAAAAAAAAAAAAAAAAAAAAAAAAAAAAAAAAAAAAAAAAAAAAAAAAAAAAAAAAAAAAAAAAAAAAAAAAAAAAAAAAAAAAAAAAAAAAAAAAAAAAAAAAAAAAAAAAAAAAAAAAAAAAAAAAAAAAAAAAAAAAAAAAAAAAAAAAAAAAAAAAAAAAAAAAAAAAAAAAAAAAqqqqqqpKWkCqqqqqqkpaQKqqqqqqSlpAqqqqqqpKWkCqqqqqqkpaQKqqqqqqSlpAqqqqqqrqQUCqqqqqqupBQKqqqqqq6kFAqqqqqqrqQUCqqqqqqupBQKqqqqqq6kFAVVVVVVUVUEBVVVVVVRVQQFVVVVVVFVBAVVVVVVUVUEBVVVVVVRVQQFVVVVVVFVBAqqqqqqrqRkCqqqqqqupGQKqqqqqq6kZAqqqqqqrqRkCqqqqqqupGQKqqqqqq6kZAAAAAAABASkAAAAAAAEBKQAAAAAAAQEpAAAAAAABASkAAAAAAAEBKQAAAAAAAQEpAqqqqqqoqOECqqqqqqio4QKqqqqqqKjhAqqqqqqoqOECqqqqqqio4QKqqqqqqKjhAqqqqqqpqRUCqqqqqqmpFQKqqqqqqakVAqqqqqqpqRUCqqqqqqmpFQKqqqqqqakVAAAAAAAAAQkAAAAAAAABCQAAAAAAAAEJAAAAAAAAAQkAAAAAAAABCQAAAAAAAAEJAVFVVVVXVPkBUVVVVVdU+QFRVVVVV1T5AVFVVVVXVPkBUVVVVVdU+QFRVVVVV1T5AVVVVVVWVQEBVVVVVVZVAQFVVVVVVlUBAVVVVVVWVQEBVVVVVVZVAQFVVVVVVlUBAAAAAAADAR0AAAAAAAMBHQAAAAAAAwEdAAAAAAADAR0AAAAAAAMBHQAAAAAAAwEdAqqqqqqrqSECqqqqqqupIQKqqqqqq6khAqqqqqqrqSECqqqqqqupIQKqqqqqq6khAAAAAAAAAQkAAAAAAAABCQAAAAAAAAEJAAAAAAAAAQkAAAAAAAABCQAAAAAAAAEJAVFVVVVXVPkBUVVVVVdU+QFRVVVVV1T5AVFVVVVXVPkBUVVVVVdU+QFRVVVVV1T5AqqqqqqoqNkCqqqqqqio2QKqqqqqqKjZAqqqqqqoqNkCqqqqqqio2QKqqqqqqKjZAAAAAAAAAAAAAAAAAAAAAAAAAAAAAAAAAAAAAAAAAAAAAAAAAAAAAAAAAAAAAAAAAAAAAAAAAAAAAAAAAAAAAAAAAAAAAAAAAAAAAAAAAAAAAAAAAAAAAAAAAAAAAAAAA",
           "dtype": "f8"
          },
          "colorbar": {
           "title": {
            "text": "Quantidade"
           }
          },
          "colorscale": [
           [
            0,
            "rgb(247,252,253)"
           ],
           [
            0.125,
            "rgb(224,236,244)"
           ],
           [
            0.25,
            "rgb(191,211,230)"
           ],
           [
            0.375,
            "rgb(158,188,218)"
           ],
           [
            0.5,
            "rgb(140,150,198)"
           ],
           [
            0.625,
            "rgb(140,107,177)"
           ],
           [
            0.75,
            "rgb(136,65,157)"
           ],
           [
            0.875,
            "rgb(129,15,124)"
           ],
           [
            1,
            "rgb(77,0,75)"
           ]
          ]
         },
         "type": "bar",
         "x": [
          "2025-07-27T00:00:00.000000000",
          "2025-07-27T00:10:00.000000000",
          "2025-07-27T00:20:00.000000000",
          "2025-07-27T00:30:00.000000000",
          "2025-07-27T00:40:00.000000000",
          "2025-07-27T00:50:00.000000000",
          "2025-07-27T01:00:00.000000000",
          "2025-07-27T01:10:00.000000000",
          "2025-07-27T01:20:00.000000000",
          "2025-07-27T01:30:00.000000000",
          "2025-07-27T01:40:00.000000000",
          "2025-07-27T01:50:00.000000000",
          "2025-07-27T02:00:00.000000000",
          "2025-07-27T02:10:00.000000000",
          "2025-07-27T02:20:00.000000000",
          "2025-07-27T02:30:00.000000000",
          "2025-07-27T02:40:00.000000000",
          "2025-07-27T02:50:00.000000000",
          "2025-07-27T03:00:00.000000000",
          "2025-07-27T03:10:00.000000000",
          "2025-07-27T03:20:00.000000000",
          "2025-07-27T03:30:00.000000000",
          "2025-07-27T03:40:00.000000000",
          "2025-07-27T03:50:00.000000000",
          "2025-07-27T04:00:00.000000000",
          "2025-07-27T04:10:00.000000000",
          "2025-07-27T04:20:00.000000000",
          "2025-07-27T04:30:00.000000000",
          "2025-07-27T04:40:00.000000000",
          "2025-07-27T04:50:00.000000000",
          "2025-07-27T05:00:00.000000000",
          "2025-07-27T05:10:00.000000000",
          "2025-07-27T05:20:00.000000000",
          "2025-07-27T05:30:00.000000000",
          "2025-07-27T05:40:00.000000000",
          "2025-07-27T05:50:00.000000000",
          "2025-07-27T06:00:00.000000000",
          "2025-07-27T06:10:00.000000000",
          "2025-07-27T06:20:00.000000000",
          "2025-07-27T06:30:00.000000000",
          "2025-07-27T06:40:00.000000000",
          "2025-07-27T06:50:00.000000000",
          "2025-07-27T07:00:00.000000000",
          "2025-07-27T07:10:00.000000000",
          "2025-07-27T07:20:00.000000000",
          "2025-07-27T07:30:00.000000000",
          "2025-07-27T07:40:00.000000000",
          "2025-07-27T07:50:00.000000000",
          "2025-07-27T08:00:00.000000000",
          "2025-07-27T08:10:00.000000000",
          "2025-07-27T08:20:00.000000000",
          "2025-07-27T08:30:00.000000000",
          "2025-07-27T08:40:00.000000000",
          "2025-07-27T08:50:00.000000000",
          "2025-07-27T09:00:00.000000000",
          "2025-07-27T09:10:00.000000000",
          "2025-07-27T09:20:00.000000000",
          "2025-07-27T09:30:00.000000000",
          "2025-07-27T09:40:00.000000000",
          "2025-07-27T09:50:00.000000000",
          "2025-07-27T10:00:00.000000000",
          "2025-07-27T10:10:00.000000000",
          "2025-07-27T10:20:00.000000000",
          "2025-07-27T10:30:00.000000000",
          "2025-07-27T10:40:00.000000000",
          "2025-07-27T10:50:00.000000000",
          "2025-07-27T11:00:00.000000000",
          "2025-07-27T11:10:00.000000000",
          "2025-07-27T11:20:00.000000000",
          "2025-07-27T11:30:00.000000000",
          "2025-07-27T11:40:00.000000000",
          "2025-07-27T11:50:00.000000000",
          "2025-07-27T12:00:00.000000000",
          "2025-07-27T12:10:00.000000000",
          "2025-07-27T12:20:00.000000000",
          "2025-07-27T12:30:00.000000000",
          "2025-07-27T12:40:00.000000000",
          "2025-07-27T12:50:00.000000000",
          "2025-07-27T13:00:00.000000000",
          "2025-07-27T13:10:00.000000000",
          "2025-07-27T13:20:00.000000000",
          "2025-07-27T13:30:00.000000000",
          "2025-07-27T13:40:00.000000000",
          "2025-07-27T13:50:00.000000000",
          "2025-07-27T14:00:00.000000000",
          "2025-07-27T14:10:00.000000000",
          "2025-07-27T14:20:00.000000000",
          "2025-07-27T14:30:00.000000000",
          "2025-07-27T14:40:00.000000000",
          "2025-07-27T14:50:00.000000000",
          "2025-07-27T15:00:00.000000000",
          "2025-07-27T15:10:00.000000000",
          "2025-07-27T15:20:00.000000000",
          "2025-07-27T15:30:00.000000000",
          "2025-07-27T15:40:00.000000000",
          "2025-07-27T15:50:00.000000000",
          "2025-07-27T16:00:00.000000000",
          "2025-07-27T16:10:00.000000000",
          "2025-07-27T16:20:00.000000000",
          "2025-07-27T16:30:00.000000000",
          "2025-07-27T16:40:00.000000000",
          "2025-07-27T16:50:00.000000000",
          "2025-07-27T17:00:00.000000000",
          "2025-07-27T17:10:00.000000000",
          "2025-07-27T17:20:00.000000000",
          "2025-07-27T17:30:00.000000000",
          "2025-07-27T17:40:00.000000000",
          "2025-07-27T17:50:00.000000000",
          "2025-07-27T18:00:00.000000000",
          "2025-07-27T18:10:00.000000000",
          "2025-07-27T18:20:00.000000000",
          "2025-07-27T18:30:00.000000000",
          "2025-07-27T18:40:00.000000000",
          "2025-07-27T18:50:00.000000000",
          "2025-07-27T19:00:00.000000000",
          "2025-07-27T19:10:00.000000000",
          "2025-07-27T19:20:00.000000000",
          "2025-07-27T19:30:00.000000000",
          "2025-07-27T19:40:00.000000000",
          "2025-07-27T19:50:00.000000000",
          "2025-07-27T20:00:00.000000000",
          "2025-07-27T20:10:00.000000000",
          "2025-07-27T20:20:00.000000000",
          "2025-07-27T20:30:00.000000000",
          "2025-07-27T20:40:00.000000000",
          "2025-07-27T20:50:00.000000000",
          "2025-07-27T21:00:00.000000000",
          "2025-07-27T21:10:00.000000000",
          "2025-07-27T21:20:00.000000000",
          "2025-07-27T21:30:00.000000000",
          "2025-07-27T21:40:00.000000000",
          "2025-07-27T21:50:00.000000000",
          "2025-07-27T22:00:00.000000000",
          "2025-07-27T22:10:00.000000000",
          "2025-07-27T22:20:00.000000000",
          "2025-07-27T22:30:00.000000000",
          "2025-07-27T22:40:00.000000000",
          "2025-07-27T22:50:00.000000000",
          "2025-07-27T23:00:00.000000000",
          "2025-07-27T23:10:00.000000000",
          "2025-07-27T23:20:00.000000000",
          "2025-07-27T23:30:00.000000000",
          "2025-07-27T23:40:00.000000000",
          "2025-07-27T23:50:00.000000000"
         ],
         "y": {
          "bdata": "AAAAAAAAAAAAAAAAAAAAAAAAAAAAAAAAAAAAAAAAAAAAAAAAAAAAAAAAAAAAAAAAAAAAAAAAAAAAAAAAAAAAAAAAAAAAAAAAAAAAAAAAAAAAAAAAAAAAAAAAAAAAAAAAAAAAAAAAAAAAAAAAAAAAAAAAAAAAAAAAAAAAAAAAAAAAAAAAAAAAAAAAAAAAAAAAAAAAAAAAAAAAAAAAAAAAAAAAAAAAAAAAAAAAAAAAAAAAAAAAAAAAAAAAAAAAAAAAAAAAAAAAAAAAAAAAAAAAAAAAAAAAAAAAAAAAAAAAAAAAAAAAAAAAAAAAAAAAAAAAAAAAAAAAAAAAAAAAAAAAAAAAAAAAAAAAAAAAAAAAAAAAAAAAAAAAAAAAAAAAAAAAAAAAAAAAAAAAAAAAAAAAAAAAAAAAAAAAAAAAAAAAAAAAAAAAAAAAAAAAAAAAAAAAqqqqqqpKWkCqqqqqqkpaQKqqqqqqSlpAqqqqqqpKWkCqqqqqqkpaQKqqqqqqSlpAqqqqqqrqQUCqqqqqqupBQKqqqqqq6kFAqqqqqqrqQUCqqqqqqupBQKqqqqqq6kFAVVVVVVUVUEBVVVVVVRVQQFVVVVVVFVBAVVVVVVUVUEBVVVVVVRVQQFVVVVVVFVBAqqqqqqrqRkCqqqqqqupGQKqqqqqq6kZAqqqqqqrqRkCqqqqqqupGQKqqqqqq6kZAAAAAAABASkAAAAAAAEBKQAAAAAAAQEpAAAAAAABASkAAAAAAAEBKQAAAAAAAQEpAqqqqqqoqOECqqqqqqio4QKqqqqqqKjhAqqqqqqoqOECqqqqqqio4QKqqqqqqKjhAqqqqqqpqRUCqqqqqqmpFQKqqqqqqakVAqqqqqqpqRUCqqqqqqmpFQKqqqqqqakVAAAAAAAAAQkAAAAAAAABCQAAAAAAAAEJAAAAAAAAAQkAAAAAAAABCQAAAAAAAAEJAVFVVVVXVPkBUVVVVVdU+QFRVVVVV1T5AVFVVVVXVPkBUVVVVVdU+QFRVVVVV1T5AVVVVVVWVQEBVVVVVVZVAQFVVVVVVlUBAVVVVVVWVQEBVVVVVVZVAQFVVVVVVlUBAAAAAAADAR0AAAAAAAMBHQAAAAAAAwEdAAAAAAADAR0AAAAAAAMBHQAAAAAAAwEdAqqqqqqrqSECqqqqqqupIQKqqqqqq6khAqqqqqqrqSECqqqqqqupIQKqqqqqq6khAAAAAAAAAQkAAAAAAAABCQAAAAAAAAEJAAAAAAAAAQkAAAAAAAABCQAAAAAAAAEJAVFVVVVXVPkBUVVVVVdU+QFRVVVVV1T5AVFVVVVXVPkBUVVVVVdU+QFRVVVVV1T5AqqqqqqoqNkCqqqqqqio2QKqqqqqqKjZAqqqqqqoqNkCqqqqqqio2QKqqqqqqKjZAAAAAAAAAAAAAAAAAAAAAAAAAAAAAAAAAAAAAAAAAAAAAAAAAAAAAAAAAAAAAAAAAAAAAAAAAAAAAAAAAAAAAAAAAAAAAAAAAAAAAAAAAAAAAAAAAAAAAAAAAAAAAAAAA",
          "dtype": "f8"
         }
        }
       ],
       "layout": {
        "bargap": 0.001,
        "template": {
         "data": {
          "candlestick": [
           {
            "decreasing": {
             "line": {
              "color": "#000033"
             }
            },
            "increasing": {
             "line": {
              "color": "#000032"
             }
            },
            "type": "candlestick"
           }
          ],
          "contour": [
           {
            "colorscale": [
             [
              0,
              "#000011"
             ],
             [
              0.1111111111111111,
              "#000012"
             ],
             [
              0.2222222222222222,
              "#000013"
             ],
             [
              0.3333333333333333,
              "#000014"
             ],
             [
              0.4444444444444444,
              "#000015"
             ],
             [
              0.5555555555555556,
              "#000016"
             ],
             [
              0.6666666666666666,
              "#000017"
             ],
             [
              0.7777777777777778,
              "#000018"
             ],
             [
              0.8888888888888888,
              "#000019"
             ],
             [
              1,
              "#000020"
             ]
            ],
            "type": "contour"
           }
          ],
          "contourcarpet": [
           {
            "colorscale": [
             [
              0,
              "#000011"
             ],
             [
              0.1111111111111111,
              "#000012"
             ],
             [
              0.2222222222222222,
              "#000013"
             ],
             [
              0.3333333333333333,
              "#000014"
             ],
             [
              0.4444444444444444,
              "#000015"
             ],
             [
              0.5555555555555556,
              "#000016"
             ],
             [
              0.6666666666666666,
              "#000017"
             ],
             [
              0.7777777777777778,
              "#000018"
             ],
             [
              0.8888888888888888,
              "#000019"
             ],
             [
              1,
              "#000020"
             ]
            ],
            "type": "contourcarpet"
           }
          ],
          "heatmap": [
           {
            "colorscale": [
             [
              0,
              "#000011"
             ],
             [
              0.1111111111111111,
              "#000012"
             ],
             [
              0.2222222222222222,
              "#000013"
             ],
             [
              0.3333333333333333,
              "#000014"
             ],
             [
              0.4444444444444444,
              "#000015"
             ],
             [
              0.5555555555555556,
              "#000016"
             ],
             [
              0.6666666666666666,
              "#000017"
             ],
             [
              0.7777777777777778,
              "#000018"
             ],
             [
              0.8888888888888888,
              "#000019"
             ],
             [
              1,
              "#000020"
             ]
            ],
            "type": "heatmap"
           }
          ],
          "histogram2d": [
           {
            "colorscale": [
             [
              0,
              "#000011"
             ],
             [
              0.1111111111111111,
              "#000012"
             ],
             [
              0.2222222222222222,
              "#000013"
             ],
             [
              0.3333333333333333,
              "#000014"
             ],
             [
              0.4444444444444444,
              "#000015"
             ],
             [
              0.5555555555555556,
              "#000016"
             ],
             [
              0.6666666666666666,
              "#000017"
             ],
             [
              0.7777777777777778,
              "#000018"
             ],
             [
              0.8888888888888888,
              "#000019"
             ],
             [
              1,
              "#000020"
             ]
            ],
            "type": "histogram2d"
           }
          ],
          "icicle": [
           {
            "textfont": {
             "color": "white"
            },
            "type": "icicle"
           }
          ],
          "sankey": [
           {
            "textfont": {
             "color": "#000036"
            },
            "type": "sankey"
           }
          ],
          "scatter": [
           {
            "marker": {
             "line": {
              "width": 0
             }
            },
            "type": "scatter"
           }
          ],
          "table": [
           {
            "cells": {
             "fill": {
              "color": "#000038"
             },
             "font": {
              "color": "#000037"
             },
             "line": {
              "color": "#000039"
             }
            },
            "header": {
             "fill": {
              "color": "#000040"
             },
             "font": {
              "color": "#000036"
             },
             "line": {
              "color": "#000039"
             }
            },
            "type": "table"
           }
          ],
          "waterfall": [
           {
            "connector": {
             "line": {
              "color": "#000036",
              "width": 2
             }
            },
            "decreasing": {
             "marker": {
              "color": "#000033"
             }
            },
            "increasing": {
             "marker": {
              "color": "#000032"
             }
            },
            "totals": {
             "marker": {
              "color": "#000034"
             }
            },
            "type": "waterfall"
           }
          ]
         },
         "layout": {
          "coloraxis": {
           "colorscale": [
            [
             0,
             "#000011"
            ],
            [
             0.1111111111111111,
             "#000012"
            ],
            [
             0.2222222222222222,
             "#000013"
            ],
            [
             0.3333333333333333,
             "#000014"
            ],
            [
             0.4444444444444444,
             "#000015"
            ],
            [
             0.5555555555555556,
             "#000016"
            ],
            [
             0.6666666666666666,
             "#000017"
            ],
            [
             0.7777777777777778,
             "#000018"
            ],
            [
             0.8888888888888888,
             "#000019"
            ],
            [
             1,
             "#000020"
            ]
           ]
          },
          "colorscale": {
           "diverging": [
            [
             0,
             "#000021"
            ],
            [
             0.1,
             "#000022"
            ],
            [
             0.2,
             "#000023"
            ],
            [
             0.3,
             "#000024"
            ],
            [
             0.4,
             "#000025"
            ],
            [
             0.5,
             "#000026"
            ],
            [
             0.6,
             "#000027"
            ],
            [
             0.7,
             "#000028"
            ],
            [
             0.8,
             "#000029"
            ],
            [
             0.9,
             "#000030"
            ],
            [
             1,
             "#000031"
            ]
           ],
           "sequential": [
            [
             0,
             "#000011"
            ],
            [
             0.1111111111111111,
             "#000012"
            ],
            [
             0.2222222222222222,
             "#000013"
            ],
            [
             0.3333333333333333,
             "#000014"
            ],
            [
             0.4444444444444444,
             "#000015"
            ],
            [
             0.5555555555555556,
             "#000016"
            ],
            [
             0.6666666666666666,
             "#000017"
            ],
            [
             0.7777777777777778,
             "#000018"
            ],
            [
             0.8888888888888888,
             "#000019"
            ],
            [
             1,
             "#000020"
            ]
           ],
           "sequentialminus": [
            [
             0,
             "#000011"
            ],
            [
             0.1111111111111111,
             "#000012"
            ],
            [
             0.2222222222222222,
             "#000013"
            ],
            [
             0.3333333333333333,
             "#000014"
            ],
            [
             0.4444444444444444,
             "#000015"
            ],
            [
             0.5555555555555556,
             "#000016"
            ],
            [
             0.6666666666666666,
             "#000017"
            ],
            [
             0.7777777777777778,
             "#000018"
            ],
            [
             0.8888888888888888,
             "#000019"
            ],
            [
             1,
             "#000020"
            ]
           ]
          },
          "colorway": [
           "#000001",
           "#000002",
           "#000003",
           "#000004",
           "#000005",
           "#000006",
           "#000007",
           "#000008",
           "#000009",
           "#000010"
          ]
         }
        },
        "title": {
         "text": "Distribuição de Quantidade por Horário"
        },
        "xaxis": {
         "title": {
          "text": "Horário"
         }
        },
        "yaxis": {
         "title": {
          "text": "Quantidade"
         }
        }
       }
      }
     },
     "metadata": {},
     "output_type": "display_data"
    }
   ],
   "source": [
    "fig = go.Figure(go.Bar(\n",
    "    x=dataframe_acumulo['horario'],\n",
    "    y=dataframe_acumulo['quantidade'],\n",
    "    marker=dict(\n",
    "        color=dataframe_acumulo['quantidade'],  # Cor baseada na altura\n",
    "        colorscale='bupu',\n",
    "        colorbar=dict(title='Quantidade')\n",
    "    )\n",
    "))\n",
    "\n",
    "\n",
    "fig.update_layout(\n",
    "    title='Distribuição de Quantidade por Horário',\n",
    "    xaxis_title='Horário',\n",
    "    yaxis_title='Quantidade',\n",
    "    bargap=0.001,\n",
    ")"
   ]
  }
 ],
 "metadata": {
  "kernelspec": {
   "display_name": "Python 3",
   "language": "python",
   "name": "python3"
  },
  "language_info": {
   "codemirror_mode": {
    "name": "ipython",
    "version": 3
   },
   "file_extension": ".py",
   "mimetype": "text/x-python",
   "name": "python",
   "nbconvert_exporter": "python",
   "pygments_lexer": "ipython3",
   "version": "3.13.3"
  }
 },
 "nbformat": 4,
 "nbformat_minor": 5
}

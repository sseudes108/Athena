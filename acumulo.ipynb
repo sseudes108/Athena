{
 "cells": [
  {
   "cell_type": "code",
   "execution_count": null,
   "id": "45646145",
   "metadata": {},
   "outputs": [],
   "source": [
    "import pandas as pd"
   ]
  },
  {
   "cell_type": "code",
   "execution_count": null,
   "id": "6fc8cbdb",
   "metadata": {},
   "outputs": [],
   "source": [
    "df = pd.read_csv(r'Data/dericavao_24h.csv')\n",
    "lista_derivacao = df['quantidade'].tolist()\n",
    "capacidade_operacao = [0, 0, 0, 0, 0, 0, 0, 391, 391, 391, 391, 391, 0, 440, 552, 280, 161, 77, 77, 161, 161, 161, 0, 0]\n",
    "demanda_atualizada = [a - b for a, b in zip(lista_derivacao, capacidade_operacao)]"
   ]
  },
  {
   "cell_type": "code",
   "execution_count": null,
   "id": "c7528caf",
   "metadata": {},
   "outputs": [],
   "source": [
    "def calcular_acumulo_backlog(derivacao, capacidade):\n",
    "    acumulo = []\n",
    "    total = 0\n",
    "\n",
    "    for d, c in zip(derivacao, capacidade):\n",
    "        total = d + total - c\n",
    "        if total < 0:\n",
    "            total = 0\n",
    "        acumulo.append(total)\n",
    "    \n",
    "    return acumulo\n",
    "\n",
    "def calcular_acumulo_backlog_com_range(derivacao, capacidade, hora_inicio, hora_fim):\n",
    "    acumulo = []\n",
    "    total = 0\n",
    "\n",
    "    for i, (d, c) in enumerate(zip(derivacao, capacidade)):\n",
    "        if hora_inicio <= i <= hora_fim:\n",
    "            total = d + total - c\n",
    "            if total < 0:\n",
    "                total = 0\n",
    "            acumulo.append(total)\n",
    "        else:\n",
    "            total = 0  # reset fora do horário\n",
    "            acumulo.append(0)\n",
    "\n",
    "    return acumulo\n",
    "\n",
    "print(calcular_acumulo_backlog(lista_derivacao, capacidade_operacao))\n",
    "print(calcular_acumulo_backlog_com_range(lista_derivacao, capacidade_operacao, 7, 21))"
   ]
  }
 ],
 "metadata": {
  "kernelspec": {
   "display_name": "Python 3",
   "language": "python",
   "name": "python3"
  },
  "language_info": {
   "codemirror_mode": {
    "name": "ipython",
    "version": 3
   },
   "file_extension": ".py",
   "mimetype": "text/x-python",
   "name": "python",
   "nbconvert_exporter": "python",
   "pygments_lexer": "ipython3",
   "version": "3.13.3"
  }
 },
 "nbformat": 4,
 "nbformat_minor": 5
}
